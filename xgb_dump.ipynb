{
 "cells": [
  {
   "cell_type": "code",
   "execution_count": 10,
   "metadata": {},
   "outputs": [
    {
     "name": "stdout",
     "output_type": "stream",
     "text": [
      "Collecting xgboost\n",
      "  Using cached https://files.pythonhosted.org/packages/6a/49/7e10686647f741bd9c8918b0decdb94135b542fe372ca1100739b8529503/xgboost-0.82-py2.py3-none-manylinux1_x86_64.whl\n",
      "Requirement already satisfied: numpy in /usr/lib64/python3.6/site-packages (from xgboost) (1.13.1)\n",
      "Requirement already satisfied: scipy in /home/johnny830512/.local/lib/python3.6/site-packages (from xgboost) (1.2.1)\n",
      "Installing collected packages: xgboost\n",
      "Successfully installed xgboost-0.82\n",
      "\u001b[33mYou are using pip version 18.1, however version 19.0.3 is available.\n",
      "You should consider upgrading via the 'pip install --upgrade pip' command.\u001b[0m\n"
     ]
    }
   ],
   "source": [
    "!pip install --user xgboost"
   ]
  },
  {
   "cell_type": "code",
   "execution_count": 1,
   "metadata": {},
   "outputs": [],
   "source": [
    "import pandas as pd\n",
    "import numpy as np\n",
    "from sklearn.model_selection import train_test_split"
   ]
  },
  {
   "cell_type": "code",
   "execution_count": 2,
   "metadata": {},
   "outputs": [],
   "source": [
    "df = df = pd.read_csv('data/A3_201902_03_with input_vis.csv')"
   ]
  },
  {
   "cell_type": "code",
   "execution_count": 3,
   "metadata": {},
   "outputs": [
    {
     "data": {
      "text/plain": [
       "['input_viscosity',\n",
       " 'SL_2nd_flow',\n",
       " 'SL_3rd_flow',\n",
       " 'CDL_1st_temp',\n",
       " 'CDL_2nd_temp',\n",
       " 'TOP_temp',\n",
       " 'Luwa_amp',\n",
       " 'dilute_ratio']"
      ]
     },
     "metadata": {},
     "output_type": "display_data"
    }
   ],
   "source": [
    "seed = 0\n",
    "columns = list(df.columns)\n",
    "columns.remove('date') \n",
    "columns.remove('input_flow1')    # 與 total_flow重複\n",
    "columns.remove('Stamo_amp')      #要提前預測，所以將 Stamo_amp 移除\n",
    "columns.remove('dilute_dmf')     #已建立新的feature(dilute_ratio)，故移除 dilute_dmf\n",
    "# columns.remove('Luwa_amp')\n",
    "columns.remove('SL_1st_flow')\n",
    "columns.remove('SL_temp')\n",
    "columns.remove('vacuum')\n",
    "columns.remove('total_flow')\n",
    "columns.remove('CDL_3rd_temp')\n",
    "columns.remove('output_viscosity') #要預測的 label，所以移除\n",
    "display(columns)\n",
    "\n",
    "\n",
    "X_train, X_test, y_train, y_test = train_test_split(df[columns], df['output_viscosity'],\n",
    "                                                    test_size=0.3,\n",
    "                                                    random_state=seed,\n",
    "                                                    shuffle=True,\n",
    "                                                    )"
   ]
  },
  {
   "cell_type": "code",
   "execution_count": 4,
   "metadata": {},
   "outputs": [
    {
     "data": {
      "text/plain": [
       "(1212, 8)"
      ]
     },
     "execution_count": 4,
     "metadata": {},
     "output_type": "execute_result"
    }
   ],
   "source": [
    "X_train.shape"
   ]
  },
  {
   "cell_type": "code",
   "execution_count": 5,
   "metadata": {},
   "outputs": [],
   "source": [
    "from sklearn.linear_model import LinearRegression, Ridge, RidgeCV, LassoCV, Lasso\n",
    "from sklearn.linear_model import ElasticNet, ElasticNetCV\n",
    "from sklearn.svm import SVR\n",
    "from sklearn.ensemble import RandomForestRegressor\n",
    "from sklearn.ensemble import AdaBoostRegressor\n",
    "from sklearn.ensemble import GradientBoostingRegressor\n",
    "from sklearn.ensemble import BaggingRegressor\n",
    "from sklearn.tree import ExtraTreeRegressor\n",
    "from sklearn.model_selection import cross_val_score\n",
    "from xgboost import XGBRegressor"
   ]
  },
  {
   "cell_type": "code",
   "execution_count": 6,
   "metadata": {},
   "outputs": [],
   "source": [
    "seed = 0\n",
    "lassocv = LassoCV(random_state=seed)\n",
    "ridgecv = RidgeCV()\n",
    "elastcv = ElasticNetCV(random_state=seed)\n",
    "svr_linear = SVR(kernel='linear')\n",
    "forest = RandomForestRegressor(max_depth=5, random_state=seed)\n",
    "xgb = XGBRegressor(n_estimators=100, random_state=seed,reg_alpha=0.1, reg_lambda=0.1, learning_rate=0.05)"
   ]
  },
  {
   "cell_type": "code",
   "execution_count": 7,
   "metadata": {},
   "outputs": [
    {
     "data": {
      "text/plain": [
       "Index(['input_viscosity', 'SL_2nd_flow', 'SL_3rd_flow', 'CDL_1st_temp',\n",
       "       'CDL_2nd_temp', 'TOP_temp', 'Luwa_amp', 'dilute_ratio'],\n",
       "      dtype='object')"
      ]
     },
     "execution_count": 7,
     "metadata": {},
     "output_type": "execute_result"
    }
   ],
   "source": [
    "X_train.columns"
   ]
  },
  {
   "cell_type": "code",
   "execution_count": 8,
   "metadata": {},
   "outputs": [],
   "source": [
    "from sklearn.preprocessing import StandardScaler\n",
    "from sklearn.externals import joblib\n",
    "sc = StandardScaler()\n",
    "sc.fit(df[columns])\n",
    "X_train_std = sc.transform(X_train)\n",
    "X_test_std = sc.transform(X_test)\n",
    "\n",
    "X_train_std = pd.DataFrame(X_train_std,columns = X_train.columns)\n",
    "X_test_std = pd.DataFrame(X_test_std,columns = X_train.columns)"
   ]
  },
  {
   "cell_type": "code",
   "execution_count": 9,
   "metadata": {},
   "outputs": [
    {
     "data": {
      "text/plain": [
       "XGBRegressor(base_score=0.5, booster='gbtree', colsample_bylevel=1,\n",
       "       colsample_bytree=1, gamma=0, importance_type='gain',\n",
       "       learning_rate=0.05, max_delta_step=0, max_depth=3,\n",
       "       min_child_weight=1, missing=None, n_estimators=100, n_jobs=1,\n",
       "       nthread=None, objective='reg:linear', random_state=0, reg_alpha=0.1,\n",
       "       reg_lambda=0.1, scale_pos_weight=1, seed=None, silent=True,\n",
       "       subsample=1)"
      ]
     },
     "execution_count": 9,
     "metadata": {},
     "output_type": "execute_result"
    }
   ],
   "source": [
    "set=[(X_test_std, y_test)]\n",
    "xgb.fit(X_train_std, y_train, eval_set=set, eval_metric='mae', early_stopping_rounds=10, verbose=0)"
   ]
  },
  {
   "cell_type": "code",
   "execution_count": 10,
   "metadata": {},
   "outputs": [],
   "source": [
    "y_pred_xgb = xgb.predict(X_test_std)"
   ]
  },
  {
   "cell_type": "code",
   "execution_count": 11,
   "metadata": {},
   "outputs": [],
   "source": [
    "xgb_train_score = xgb.score(X_train_std, y_train).round(decimals=2)\n",
    "xgb_test_score = xgb.score(X_test_std, y_test).round(decimals=2)"
   ]
  },
  {
   "cell_type": "code",
   "execution_count": 12,
   "metadata": {},
   "outputs": [
    {
     "data": {
      "text/plain": [
       "(0.9, 0.87)"
      ]
     },
     "execution_count": 12,
     "metadata": {},
     "output_type": "execute_result"
    }
   ],
   "source": [
    "xgb_train_score,xgb_test_score"
   ]
  },
  {
   "cell_type": "code",
   "execution_count": 16,
   "metadata": {},
   "outputs": [
    {
     "data": {
      "text/plain": [
       "['models/TLL_xgb.sav']"
      ]
     },
     "execution_count": 16,
     "metadata": {},
     "output_type": "execute_result"
    }
   ],
   "source": [
    "joblib.dump(xgb, \"models/TLL_xgb.sav\")"
   ]
  },
  {
   "cell_type": "code",
   "execution_count": 17,
   "metadata": {},
   "outputs": [],
   "source": [
    "model = joblib.load(\"models/TLL_xgb.sav\")"
   ]
  },
  {
   "cell_type": "code",
   "execution_count": 18,
   "metadata": {},
   "outputs": [
    {
     "data": {
      "text/plain": [
       "array([194.99504, 199.18886, 198.72638, ..., 202.67926, 197.19826,\n",
       "       188.87686], dtype=float32)"
      ]
     },
     "execution_count": 18,
     "metadata": {},
     "output_type": "execute_result"
    }
   ],
   "source": [
    "model.predict(X_train_std)"
   ]
  },
  {
   "cell_type": "code",
   "execution_count": null,
   "metadata": {},
   "outputs": [],
   "source": []
  }
 ],
 "metadata": {
  "kernelspec": {
   "display_name": "Python 3",
   "language": "python",
   "name": "python3"
  },
  "language_info": {
   "codemirror_mode": {
    "name": "ipython",
    "version": 3
   },
   "file_extension": ".py",
   "mimetype": "text/x-python",
   "name": "python",
   "nbconvert_exporter": "python",
   "pygments_lexer": "ipython3",
   "version": "3.6.4"
  }
 },
 "nbformat": 4,
 "nbformat_minor": 2
}
